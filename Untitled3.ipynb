{
  "nbformat": 4,
  "nbformat_minor": 0,
  "metadata": {
    "colab": {
      "name": "Untitled3.ipynb",
      "provenance": [],
      "collapsed_sections": [],
      "include_colab_link": true
    },
    "kernelspec": {
      "name": "python3",
      "display_name": "Python 3"
    },
    "language_info": {
      "name": "python"
    }
  },
  "cells": [
    {
      "cell_type": "markdown",
      "metadata": {
        "id": "view-in-github",
        "colab_type": "text"
      },
      "source": [
        "<a href=\"https://colab.research.google.com/github/atharvad97/Array-implementation-of-Stack/blob/main/Untitled3.ipynb\" target=\"_parent\"><img src=\"https://colab.research.google.com/assets/colab-badge.svg\" alt=\"Open In Colab\"/></a>"
      ]
    },
    {
      "cell_type": "code",
      "metadata": {
        "id": "b1grvy7JSHg1"
      },
      "source": [
        ""
      ],
      "execution_count": null,
      "outputs": []
    },
    {
      "cell_type": "markdown",
      "metadata": {
        "id": "mVZd5_zhSIxM"
      },
      "source": [
        "1.Pg.43: Q. Given two variables, write a program to exchange them.\n"
      ]
    },
    {
      "cell_type": "code",
      "metadata": {
        "colab": {
          "base_uri": "https://localhost:8080/"
        },
        "id": "u6JOU8u8STMb",
        "outputId": "000a6ff9-26c0-4d03-8323-60abd38f5db1"
      },
      "source": [
        "a=int(input(\"Enter value of first variable: \"))\n",
        "b=int(input(\"Enter value of second variable: \"))\n",
        "a=a+b\n",
        "b=a-b\n",
        "a=a-b\n",
        "print(\"a is:\",a,\" b is:\",b)"
      ],
      "execution_count": null,
      "outputs": [
        {
          "output_type": "stream",
          "name": "stdout",
          "text": [
            "Enter value of first variable: 6\n",
            "Enter value of second variable: 4\n",
            "a is: 4  b is: 6\n"
          ]
        }
      ]
    },
    {
      "cell_type": "markdown",
      "metadata": {
        "id": "ZuiltPDdS4xh"
      },
      "source": [
        "2.Pg.47(2.1.2): Q. Write a program to exchange values as\n",
        "               a->b->c->a"
      ]
    },
    {
      "cell_type": "code",
      "metadata": {
        "id": "xcFa7FI1T7TD",
        "colab": {
          "base_uri": "https://localhost:8080/"
        },
        "outputId": "2941f43e-dff4-412c-c3fa-dd01af355943"
      },
      "source": [
        "7\n",
        "a=int(input(\"Enter value of first variable: \"))\n",
        "b=int(input(\"Enter value of second variable: \"))\n",
        "c=int(input(\"Enter value of third variable: \"))\n",
        "\n",
        "temp=a\n",
        "a=c\n",
        "c=b\n",
        "b=temp\n",
        "\n",
        "print(\"a is:\",a,\" b is:\",b,\"c is :\",c)"
      ],
      "execution_count": null,
      "outputs": [
        {
          "output_type": "stream",
          "name": "stdout",
          "text": [
            "Enter value of first variable: 4\n",
            "Enter value of second variable: 6\n",
            "Enter value of third variable: 7\n",
            "a is: 7  b is: 4 c is : 6\n"
          ]
        }
      ]
    },
    {
      "cell_type": "markdown",
      "metadata": {
        "id": "JDbYJZFOT9ni"
      },
      "source": [
        "3.Pg.47(2.1.3): Write a program to exchange as a->b->c->d->a"
      ]
    },
    {
      "cell_type": "code",
      "metadata": {
        "id": "NFuKSvakULdI"
      },
      "source": [
        "a=int(input(\"Enter value of first variable: \"))\n",
        "b=int(input(\"Enter value of second variable: \"))\n",
        "c=int(input(\"Enter value of third variable: \"))\n",
        "d=int(input(\"Enter value of fourth variable:\"))\n",
        "\n",
        "temp=d\n",
        "d=a\n",
        "a=b\n",
        "b=c\n",
        "c=temp\n",
        "\n",
        "\n",
        "print(\"a is:\",a,\" b is:\",b,\"c is :\",c,\"d is:\",d)\n"
      ],
      "execution_count": null,
      "outputs": []
    },
    {
      "cell_type": "markdown",
      "metadata": {
        "id": "cMdRKF28UxOj"
      },
      "source": [
        "4.Pg.47(2.1.4): Write a program to exchange two numbers without using third number."
      ]
    },
    {
      "cell_type": "code",
      "metadata": {
        "id": "d3ALnA_EVFbl"
      },
      "source": [
        "a=int(input(\"Enter value of first variable: \"))\n",
        "b=int(input(\"Enter value of second variable: \"))\n",
        "a=a+b\n",
        "b=a-b\n",
        "a=a-b\n",
        "print(\"a is:\",a,\" b is:\",b)"
      ],
      "execution_count": null,
      "outputs": []
    },
    {
      "cell_type": "markdown",
      "metadata": {
        "id": "SqnWt4lzVH2b"
      },
      "source": [
        "5.Pg.56(2.3.1):Write a program to calculate average of n numbers."
      ]
    },
    {
      "cell_type": "code",
      "metadata": {
        "id": "ru3gFx-sVhF4"
      },
      "source": [
        "num = int(input('How many numbers: '))\n",
        "total_sum = 0\n",
        "for n in range(num):\n",
        "    numbers =int(input('Enter number : '))\n",
        "    total_sum += numbers\n",
        "avg = total_sum/num\n",
        "print('Average of ', num, ' numbers is :', avg)"
      ],
      "execution_count": null,
      "outputs": []
    },
    {
      "cell_type": "markdown",
      "metadata": {
        "id": "yW8rEbCdV86U"
      },
      "source": [
        "6.Pg.56(2.3.3): Write a program to calculate sum of squares of n numbers."
      ]
    },
    {
      "cell_type": "code",
      "metadata": {
        "colab": {
          "base_uri": "https://localhost:8080/"
        },
        "id": "IHtW4fM1Wvjm",
        "outputId": "706eab0d-a324-48e4-ec56-d90993e9a150"
      },
      "source": [
        "num = int(input('How many numbers: '))\n",
        "total_sum = 0\n",
        "for n in range(num):\n",
        "    numbers =int(input('Enter number : '))\n",
        "    total_sum += numbers*numbers\n",
        "\n",
        "print('Sum of Squares is ', total_sum)"
      ],
      "execution_count": null,
      "outputs": [
        {
          "output_type": "stream",
          "name": "stdout",
          "text": [
            "How many numbers: 5\n",
            "Enter number : 1\n",
            "Enter number : 2\n",
            "Enter number : 3\n",
            "Enter number : 4\n",
            "Enter number : 5\n",
            "Sum of Squares is  55\n"
          ]
        }
      ]
    },
    {
      "cell_type": "markdown",
      "metadata": {
        "id": "zcypIlMtXXCT"
      },
      "source": [
        "7.Pg.56(2.3.5.a): Compute sum of firts n terms of: 1+2+3..."
      ]
    },
    {
      "cell_type": "code",
      "metadata": {
        "id": "hPyDx0FxZrrk"
      },
      "source": [
        "n = int(input(\"Enter Number to calculate sum:\"))\n",
        "\n",
        "sum = 0\n",
        "for num in range(0, n+1, 1):\n",
        "    sum+=num\n",
        "print(\"SUM of first \", n, \"numbers is: \", sum )"
      ],
      "execution_count": null,
      "outputs": []
    },
    {
      "cell_type": "markdown",
      "metadata": {
        "id": "0GsN3-Eff0Q2"
      },
      "source": [
        "8.Pg.56(2.3.5.b):Compute sum of first n terms of:1+3+5..."
      ]
    },
    {
      "cell_type": "code",
      "metadata": {
        "id": "oeMpjr_nhLhV"
      },
      "source": [
        "n = int(input(\" n value : \"))\n",
        "sum = 0\n",
        "\n",
        "for number in range(1, 2*n+1):\n",
        "    if(number % 2 != 0):\n",
        "       \n",
        "        sum = sum + number\n",
        "\n",
        "print(sum)"
      ],
      "execution_count": null,
      "outputs": []
    },
    {
      "cell_type": "markdown",
      "metadata": {
        "id": "tjdZNOEclemq"
      },
      "source": [
        "9.Pg.56(2.3.5.c):Compute sum of first n terms of:2+4+6..."
      ]
    },
    {
      "cell_type": "code",
      "metadata": {
        "id": "viM1yIWmmAHr"
      },
      "source": [
        "n = int(input(\" n value : \"))\n",
        "sum = 0\n",
        "\n",
        "for number in range(1, 2*n+2):\n",
        "    if(number % 2 == 0):\n",
        "       \n",
        "        sum = sum + number\n",
        "\n",
        "print(sum)"
      ],
      "execution_count": null,
      "outputs": []
    },
    {
      "cell_type": "markdown",
      "metadata": {
        "id": "P_r7jd6pmMmo"
      },
      "source": [
        "10.Pg.56(2.3.5.d):Compute sum of first n terms pf:1+1/2+1/3..."
      ]
    },
    {
      "cell_type": "code",
      "metadata": {
        "id": "_ioO7R_mmdWg"
      },
      "source": [
        "n = int(input(\" n value : \"))\n",
        "sum = 0\n",
        "\n",
        "for number in range(1, n+1):\n",
        "    sum = sum + 1/number\n",
        "\n",
        "print(sum)"
      ],
      "execution_count": null,
      "outputs": []
    },
    {
      "cell_type": "markdown",
      "metadata": {
        "id": "WdeBiI2umxtI"
      },
      "source": [
        "11.Pg.56(2.3.6):Print the first n terms of the series 1 2 4 8 16 32"
      ]
    },
    {
      "cell_type": "code",
      "metadata": {
        "id": "43WzZ1E7nDC4"
      },
      "source": [
        "n = int(input(\" n value : \"))\n",
        "sum = 0\n",
        "\n",
        "for number in range(0, n):\n",
        "    sum=pow(2,number)\n",
        "    print(sum)\n",
        "    "
      ],
      "execution_count": null,
      "outputs": []
    },
    {
      "cell_type": "markdown",
      "metadata": {
        "id": "I8nvoXbtniTI"
      },
      "source": [
        "12.Pg.56(2.3.8):Compute the sum of n terms of following 1-3+5-7+9..."
      ]
    },
    {
      "cell_type": "code",
      "metadata": {
        "id": "LC-dtnH3n0JY"
      },
      "source": [
        "n = int(input(\" n value : \"))\n",
        "sum = 0\n",
        "\n",
        "for number in range(1, 2*n+3):\n",
        "    if(number % 4 == 1):\n",
        "       sum = sum + number\n",
        "    if(number % 4 == 3):\n",
        "       sum = sum - number\n",
        "\n",
        "print(sum)"
      ],
      "execution_count": null,
      "outputs": []
    },
    {
      "cell_type": "markdown",
      "metadata": {
        "id": "R64Odr32o4GT"
      },
      "source": [
        "13.Pg.59(2.4.1):Given a number n, calculate 1/n!"
      ]
    },
    {
      "cell_type": "code",
      "metadata": {
        "id": "8BzwvbsJpHeI"
      },
      "source": [
        "n = int(input(\" n value : \"))\n",
        "fact = 1\n",
        "\n",
        "for number in range(1, n+1):\n",
        "    fact=fact*number\n",
        "result = 1/fact    \n",
        "print(result)"
      ],
      "execution_count": null,
      "outputs": []
    },
    {
      "cell_type": "markdown",
      "metadata": {
        "id": "crRcgfYyprg5"
      },
      "source": [
        "14.Pg.59(2.4.2):Given a value for x and n, calculate balue of x^n/n!"
      ]
    },
    {
      "cell_type": "code",
      "metadata": {
        "id": "R2CV6oxQp63R"
      },
      "source": [
        "n = (input(\" n value : \"))\n",
        "x = (input(\" x value : \"))\n",
        "fact = 1\n",
        "\n",
        "for number in range(1, n+1):\n",
        "    fact=fact*number\n",
        "result = pow(x,n)/fact    \n",
        "print(result)\n"
      ],
      "execution_count": null,
      "outputs": []
    },
    {
      "cell_type": "markdown",
      "metadata": {
        "id": "EculrlZVvWev"
      },
      "source": [
        "15.Pg.63(2.5.2): Compute sum of first n terms of series. 1!+2!+3!..."
      ]
    },
    {
      "cell_type": "code",
      "metadata": {
        "id": "RXgVZNHcyc0p"
      },
      "source": [
        "n = int(input(\" n value : \"))\n",
        "fact = 1\n",
        "sum=0\n",
        "\n",
        "for number in range(1, n+1):\n",
        "    fact=fact*number\n",
        "    sum=sum+fact\n",
        "   \n",
        "print(sum)"
      ],
      "execution_count": null,
      "outputs": []
    },
    {
      "cell_type": "markdown",
      "metadata": {
        "id": "AbGfPrMYy_Qs"
      },
      "source": [
        "16.Pg.63(2.5.2):Compute value of e as 1/0!+ 1/1! +1/2!..."
      ]
    },
    {
      "cell_type": "code",
      "metadata": {
        "id": "YPticXUtzP3y"
      },
      "source": [
        "n = int(input(\" n value : \"))\n",
        "fact = 1\n",
        "sum=0\n",
        "\n",
        "for number in range(0, n+1):\n",
        "    fact=fact*number\n",
        "    sum=sum+1/fact\n",
        "   \n",
        "print(sum)"
      ],
      "execution_count": null,
      "outputs": []
    },
    {
      "cell_type": "markdown",
      "metadata": {
        "id": "2nuXIsS_zZKa"
      },
      "source": [
        "17.Pg.63(2.5.3):Write a program to simulate multiplication by addition."
      ]
    },
    {
      "cell_type": "code",
      "metadata": {
        "id": "ycQ5FGzWzzpi"
      },
      "source": [
        "m = int(input(\" first number : \"))\n",
        "n = int(input(\" second number : \"))\n",
        "\n",
        "sum=m\n",
        "\n",
        "for n in range(1, n):\n",
        "    \n",
        "    sum=sum+m\n",
        "   \n",
        "print(sum)"
      ],
      "execution_count": null,
      "outputs": []
    },
    {
      "cell_type": "markdown",
      "metadata": {
        "id": "ysU8_ymlxq7S"
      },
      "source": [
        "18.Pg.68(2.6.1):Write a program to print sum of fibbonacci series."
      ]
    },
    {
      "cell_type": "code",
      "metadata": {
        "id": "iDDrKyVdx-ek"
      },
      "source": [
        "m = 0\n",
        "n = 1\n",
        "p = int(input(\" Enter number of terms :\"))\n",
        "sum=0\n",
        "\n",
        "for i in range(1, p+1):\n",
        "    sum=m+n\n",
        "    n=m\n",
        "    m=sum\n",
        "\n",
        "print(sum)"
      ],
      "execution_count": null,
      "outputs": []
    },
    {
      "cell_type": "markdown",
      "metadata": {
        "id": "2UWL-nHfyD-B"
      },
      "source": [
        "19.Pg.68(2.6.3):Given that a=0,b=1,c=1. generate a sequendce in which next term is sum of three preeceding terms."
      ]
    },
    {
      "cell_type": "code",
      "metadata": {
        "id": "Atz0ZzayytrI"
      },
      "source": [
        "a = 0\n",
        "b = 1\n",
        "c = 1\n",
        "p = int(input(\" Enter number of terms :\"))\n",
        "sum=0\n",
        "print(\" 0 1 1 \")\n",
        "for i in range(1, p+1):\n",
        "    sum=a+b+c\n",
        "    a=b\n",
        "    b=c\n",
        "    c=sum\n",
        "    print(c)\n"
      ],
      "execution_count": null,
      "outputs": []
    },
    {
      "cell_type": "markdown",
      "metadata": {
        "id": "5_b67Tgl0VtA"
      },
      "source": [
        "20.Pg.74(2.7.1): Write a program to calculate number of digits in an integer."
      ]
    },
    {
      "cell_type": "code",
      "metadata": {
        "id": "SB7uK2ohGcqJ"
      },
      "source": [
        "n=int(input(\"Enter number:\"))\n",
        "count=0\n",
        "while(n>0):\n",
        "    count=count+1\n",
        "    n=n//10\n",
        "print(\"The number of digits in the number are:\",count)"
      ],
      "execution_count": null,
      "outputs": []
    },
    {
      "cell_type": "markdown",
      "metadata": {
        "id": "ohcML9h_GdSJ"
      },
      "source": [
        "21.Pg.79(2.8.3):Write a program to convert binary number to decimal."
      ]
    },
    {
      "cell_type": "code",
      "metadata": {
        "id": "Ca7xZC4eyq1m"
      },
      "source": [
        "\n",
        "def binaryToDeci(binanumb):\n",
        "    \n",
        "    if(binanumb == 0):\n",
        "        return 0\n",
        "    \n",
        "    return (binanumb % 10 + 2 * binaryToDeci(binanumb // 10))\n",
        "\n",
        "gvnbinarynumb = int(input('Enter some random binary number = '))\n",
        "\n",
        "resdecimalnumbr = binaryToDeci(gvnbinarynumb)\n",
        "\n",
        "print(\n",
        "    'The decimal Equivalent of the given binary number {', gvnbinarynumb, '} is :', resdecimalnumbr)"
      ],
      "execution_count": null,
      "outputs": []
    },
    {
      "cell_type": "markdown",
      "metadata": {
        "id": "GfpU5ksAyrm8"
      },
      "source": [
        "22.Pg.92(3.1.1):Write a program to find square root of a number."
      ]
    },
    {
      "cell_type": "code",
      "metadata": {
        "colab": {
          "base_uri": "https://localhost:8080/"
        },
        "id": "a-M1P38WzOC3",
        "outputId": "13db0767-8503-4c67-9214-cded011d12d8"
      },
      "source": [
        "import math\n",
        "print(\"The square root of 25 is\",math.sqrt(25))\n"
      ],
      "execution_count": null,
      "outputs": [
        {
          "output_type": "stream",
          "name": "stdout",
          "text": [
            "The square root of 25 is 5.0\n"
          ]
        }
      ]
    },
    {
      "cell_type": "markdown",
      "metadata": {
        "id": "wzRALSpRzU7X"
      },
      "source": [
        "23.Pg.92(3.1.2):Write a program to calculate geometric mean of n numbers."
      ]
    },
    {
      "cell_type": "code",
      "metadata": {
        "id": "4xsjMKsI0Svr"
      },
      "source": [
        "import math\n",
        "\n",
        "n=int(input(\" Enter the value of n :\"))\n",
        "product=1\n",
        "\n",
        "for n in range (1,n+1):\n",
        "    product=product*n\n",
        "    \n",
        "print(\"The Geometric mean is\",math.sqrt(product))"
      ],
      "execution_count": null,
      "outputs": []
    },
    {
      "cell_type": "markdown",
      "metadata": {
        "id": "f76rvsna0Tcm"
      },
      "source": [
        "24.Pg.151(4.3.1):Write a program to find minimum number in an array."
      ]
    },
    {
      "cell_type": "code",
      "metadata": {
        "id": "XkqnSnjq9Ff2"
      },
      "source": [
        "\n",
        "import numpy\n",
        "\n",
        "arr = numpy.array([1, 5, 4, 8, 3, 7])\n",
        "\n",
        "min_element = numpy.min(arr)\n",
        "\n",
        "print('minimum element in the array is: ',\n",
        "      min_element)"
      ],
      "execution_count": null,
      "outputs": []
    },
    {
      "cell_type": "markdown",
      "metadata": {
        "id": "qoRXZuRS9HCZ"
      },
      "source": [
        "25.Pg.151(4.3.2):Write a program to find number of occurences of maximum element in an array."
      ]
    },
    {
      "cell_type": "code",
      "metadata": {
        "id": "0IbqtbrVAJqF"
      },
      "source": [
        "\n",
        "import numpy\n",
        "count=0\n",
        "arr = numpy.array([1, 5, 4, 8, 3, 7, 8, 9, 5, 9])\n",
        "\n",
        "max_element = numpy.max(arr)\n",
        "\n",
        "for x in arr:\n",
        "    if(max_element==x):\n",
        "        count+=1\n",
        "\n",
        "print('Number of occurences of maximum element is :',\n",
        "      count)"
      ],
      "execution_count": null,
      "outputs": []
    },
    {
      "cell_type": "markdown",
      "metadata": {
        "id": "6cZAo2ElALbr"
      },
      "source": [
        "26.Pg.151(4.3.6):Write a program to find a number and print its occurences."
      ]
    },
    {
      "cell_type": "code",
      "metadata": {
        "id": "5lbINxpSDKil"
      },
      "source": [
        "\n",
        "import numpy\n",
        "\n",
        "n=int(input(\"Enter the value to be searched:\"))\n",
        "count=0\n",
        "arr = numpy.array([1, 5, 4, 8, 3, 7, 8, 9, 5, 9])\n",
        "\n",
        "for x in arr:\n",
        "    if(n==arr[x]):\n",
        "        count+=1\n",
        "        print(\" The element found at :\",x)\n",
        "\n",
        "if(count==0):\n",
        "    print(\"Element not found\")"
      ],
      "execution_count": null,
      "outputs": []
    },
    {
      "cell_type": "markdown",
      "metadata": {
        "id": "dS94Da4QDM26"
      },
      "source": [
        "27.Pg.151(4.3.5):Write a program to find second largest number in an array."
      ]
    },
    {
      "cell_type": "code",
      "metadata": {
        "id": "TyOI-zxjEvLE"
      },
      "source": [
        "import numpy \n",
        "\n",
        "a = numpy.array([12, 56, 87, 65, 47, 53])\n",
        "print(\"Array Items = \", a)\n",
        "\n",
        "a.sort()\n",
        "print(\"The Second Largest Item in this Array = \", a[len(a) - 2])"
      ],
      "execution_count": null,
      "outputs": []
    },
    {
      "cell_type": "markdown",
      "metadata": {
        "id": "xGjlWe3AEv7B"
      },
      "source": [
        "28.Pg.191(5.1.4);Write a program to merge three arrays."
      ]
    },
    {
      "cell_type": "code",
      "metadata": {
        "id": "v39ZeIcjJMaL"
      },
      "source": [
        "list_1 = [[7,13,14],[18,10,17],[11,12,19]]\n",
        "list_2 = [16,6,1]\n",
        "list_3 = [[5,8,4,3]]\n",
        "\n",
        "final_array = np.hstack([np.vstack([np.array(list_1),np.array(list_2)]), np.transpose(np.array(list_3))])\n",
        "print(final_array)"
      ],
      "execution_count": null,
      "outputs": []
    },
    {
      "cell_type": "markdown",
      "source": [
        "29.Pg.198(5.2.1):Sort an array into descending order."
      ],
      "metadata": {
        "id": "ar0jBHTNilz2"
      }
    },
    {
      "cell_type": "code",
      "source": [
        "numbers = [1, 3, 4, 2]\n",
        "  \n",
        "numbers.sort(reverse = True)\n",
        "  \n",
        "print(numbers)"
      ],
      "metadata": {
        "id": "YCWQ44aIkUmy"
      },
      "execution_count": null,
      "outputs": []
    },
    {
      "cell_type": "markdown",
      "source": [
        "30.Pg.236(5.7.3):Implement Binary search algorithm using middle=(lower+upper)/2."
      ],
      "metadata": {
        "id": "CUiyZJEZi7Ss"
      }
    },
    {
      "cell_type": "code",
      "source": [
        "def binarySearch(arr, l, r, x):\n",
        "    if r >= l:\n",
        "        mid = l + (r - l) // 2\n",
        "        if arr[mid] == x:\n",
        "            return mid\n",
        "        elif arr[mid] > x:\n",
        "            return binarySearch(arr, l, mid-1, x)\n",
        "        else:\n",
        "            return binarySearch(arr, mid + 1, r, x)\n",
        "    else:\n",
        "        return -1\n",
        "        \n",
        "arr = [2, 3, 4, 10, 40]\n",
        "x = 10\n",
        " \n",
        "result = binarySearch(arr, 0, len(arr)-1, x)\n",
        " \n",
        "if result != -1:\n",
        "    print(\"Element is present at index % d\" % result)\n",
        "else:\n",
        "    print(\"Element is not present in array\")"
      ],
      "metadata": {
        "id": "Ybv4u04pqTt-"
      },
      "execution_count": null,
      "outputs": []
    },
    {
      "cell_type": "markdown",
      "source": [
        "31.Pg.237:Write a program to implement hash searching algorithm."
      ],
      "metadata": {
        "id": "YsoFCh45kTu0"
      }
    },
    {
      "cell_type": "code",
      "source": [
        "def display_hash(hashTable):\n",
        "      \n",
        "    for i in range(len(hashTable)):\n",
        "        print(i, end = \" \")\n",
        "          \n",
        "        for j in hashTable[i]:\n",
        "            print(\"-->\", end = \" \")\n",
        "            print(j, end = \" \")\n",
        "              \n",
        "        print()\n",
        ".\n",
        "HashTable = [[] for _ in range(10)]\n",
        "\n",
        "def Hashing(keyvalue):\n",
        "    return keyvalue % len(HashTable)\n",
        "\n",
        "def insert(Hashtable, keyvalue, value):\n",
        "      \n",
        "    hash_key = Hashing(keyvalue)\n",
        "    Hashtable[hash_key].append(value)\n",
        "\n",
        "insert(HashTable, 10, 'Allahabad')\n",
        "insert(HashTable, 25, 'Mumbai')\n",
        "insert(HashTable, 20, 'Mathura')\n",
        "insert(HashTable, 9, 'Delhi')\n",
        "insert(HashTable, 21, 'Punjab')\n",
        "insert(HashTable, 21, 'Noida')\n",
        "  \n",
        "display_hash (HashTable)"
      ],
      "metadata": {
        "id": "EBpeOcDzqie_"
      },
      "execution_count": null,
      "outputs": []
    },
    {
      "cell_type": "markdown",
      "source": [
        "32.Pg.306:Write a program to add items in the stack."
      ],
      "metadata": {
        "id": "C8_-J3kelAYG"
      }
    },
    {
      "cell_type": "code",
      "source": [
        "stack = []\n",
        " \n",
        "stack.append('a')\n",
        "stack.append('b')\n",
        "stack.append('c')\n",
        " \n",
        "print('Initial stack')\n",
        "print(stack)"
      ],
      "metadata": {
        "id": "xTUtznk0qlA2"
      },
      "execution_count": null,
      "outputs": []
    },
    {
      "cell_type": "markdown",
      "source": [
        "33.Pg.306:Write a program to delete items from a stack."
      ],
      "metadata": {
        "id": "RRgGGF5flw9s"
      }
    },
    {
      "cell_type": "code",
      "source": [
        "from collections import deque\n",
        "\n",
        "stack = deque()\n",
        "\n",
        "stack.append('a')\n",
        "stack.append('b')\n",
        "stack.append('c')\n",
        "\n",
        "print('Initial stack:')\n",
        "print(stack)\n",
        "\n",
        "print('\\nElements popped from stack:')\n",
        "print(stack.pop())\n",
        "print(stack.pop())\n",
        "print(stack.pop())\n",
        "\n",
        "print('\\nStack after elements are popped:')\n",
        "print(stack)\n",
        "\n"
      ],
      "metadata": {
        "id": "DbLRRTBwqmim"
      },
      "execution_count": null,
      "outputs": []
    },
    {
      "cell_type": "markdown",
      "source": [
        "34.Pg.314(7.1.4):Write a program to maintain two stacks in an array."
      ],
      "metadata": {
        "id": "8i1RBESXl3Lg"
      }
    },
    {
      "cell_type": "code",
      "source": [
        ""
      ],
      "metadata": {
        "id": "08HQYnv7qsxz"
      },
      "execution_count": null,
      "outputs": []
    },
    {
      "cell_type": "markdown",
      "source": [
        "35.Pg.314:Write a program for inserting an element in a queue."
      ],
      "metadata": {
        "id": "qdjk4HdZmHsD"
      }
    },
    {
      "cell_type": "markdown",
      "source": [
        "36.Pg.314:Write a program to remove an element from a queue."
      ],
      "metadata": {
        "id": "KFxeC-8nmRVa"
      }
    },
    {
      "cell_type": "markdown",
      "source": [
        "37.Pg.325(7.2.4):Write a program for insertion in dequeue."
      ],
      "metadata": {
        "id": "nD5jq1SdmWHu"
      }
    },
    {
      "cell_type": "markdown",
      "source": [
        "38.Pg.325(7.2.4):Write a program for deletion in dequeue."
      ],
      "metadata": {
        "id": "72t4dSIOmx8J"
      }
    },
    {
      "cell_type": "markdown",
      "source": [
        "39.Pg.325(7.2.5):Write a program to implement queue as a linked list."
      ],
      "metadata": {
        "id": "T8dO_DpOm8vy"
      }
    },
    {
      "cell_type": "markdown",
      "source": [
        "40.Pg.325:Write a program to search an element in linear ordered linked list."
      ],
      "metadata": {
        "id": "YfDpNxSonIuM"
      }
    },
    {
      "cell_type": "markdown",
      "source": [
        "41.Pg.331:Write a program for insertion in a linked list."
      ],
      "metadata": {
        "id": "1qqhLphHnexX"
      }
    },
    {
      "cell_type": "markdown",
      "source": [
        "42.Pg.331:Write a program for deletion in a linked list."
      ],
      "metadata": {
        "id": "oHo2-bYvn7Nn"
      }
    },
    {
      "cell_type": "markdown",
      "source": [
        "43.Pg.341(7.4.1):Write a program for insertion at the end in a linked list."
      ],
      "metadata": {
        "id": "CpO8i_tuoC6n"
      }
    },
    {
      "cell_type": "markdown",
      "source": [
        "44.Pg.341(7.4.3):Write a program to merge two existing linked lists."
      ],
      "metadata": {
        "id": "zITIROg7osX3"
      }
    },
    {
      "cell_type": "code",
      "source": [
        "class Node:\n",
        "    def __init__(self,data):\n",
        "        self.data = data\n",
        "        self.next = None\n",
        "class linkedlist:\n",
        "    def __init__(self):\n",
        "        self.head = None\n",
        "def merge_lists(ll1, ll2):\n",
        "    if ll1 is None:\n",
        "        return ll2\n",
        "    if ll2 is None:\n",
        "        return ll1\n",
        "\n",
        "    if (ll1.data < ll2.data):\n",
        "        ll1.next = merge_lists(ll1.next, ll2)\n",
        "        return ll1\n",
        "    else:\n",
        "        ll2.next = merge_lists(ll2.next, ll1)\n",
        "        return ll2\n",
        "        l1 = []\n",
        "        try:\n",
        "            l1 = list(map(int,input().strip().split()))\n",
        "        except EOFError:\n",
        "            pass\n",
        "        l2 = []\n",
        "        try:\n",
        "            l2 = list(map(int,input().strip().split()))\n",
        "        except EOFError:\n",
        "            pass\n",
        "            ll1 = linkedlist()\n",
        "            ll1.head = Node(l1[0])\n",
        "            itr1 = ll1.head\n",
        "        for i in range(1,n1):\n",
        "            temp = Node(l1[i])\n",
        "            itr1.next = temp\n",
        "            itr1 = itr1.next\n",
        "\n",
        "            ll2 = linkedlist()\n",
        "            ll2.head = Node(l2[0])\n",
        "            itr2 = ll2.head\n",
        "            for i in range(1,n2):\n",
        "                temp = Node(l2[i])\n",
        "                itr2.next = temp\n",
        "                itr2 = itr2.next\n",
        "            itr = merge(ll1.head,ll2.head)\n",
        "            while itr != None:\n",
        "                print(itr.data,end=\" \")\n",
        "                itr = itr.next\n",
        "\n"
      ],
      "metadata": {
        "id": "qQ7BhJYys787"
      },
      "execution_count": null,
      "outputs": []
    },
    {
      "cell_type": "markdown",
      "source": [
        "45.Pg.342:Write a program to search an element in ordered binary tree."
      ],
      "metadata": {
        "id": "ZrMnISWopZAB"
      }
    },
    {
      "cell_type": "code",
      "source": [
        "class node:\n",
        "    def __init__(self, key):\n",
        "        self.left = None\n",
        "        self.right = None\n",
        "        self.data = key\n",
        "\n",
        "def finde(root,e,res):\n",
        "    if root:\n",
        "        if res==True:\n",
        "            return True\n",
        "        \n",
        "        if root.left:\n",
        "            res=finde(root.left,e,res)\n",
        "        if root.data==e:\n",
        "            return True\n",
        "        if root.right:\n",
        "            res=finde(root.right,e,res)\n",
        "        return res\n",
        "\n",
        "def main():\n",
        "\n",
        "    root = node(5)  \n",
        "    root.left = node(4) \n",
        "    root.right = node(6) \n",
        "    root.left.left = node(10)\n",
        "    root.right.left = node(12)\n",
        "    root.right.right =node(15)\n",
        "    e=int(input('Enter the element to be searched = '))\n",
        "    print('      ',root.data)\n",
        "    print('      / \\\\')\n",
        "    print('   ',root.left.data,'  ',root.right.data)\n",
        "    print('    /   / \\\\')\n",
        "    print(' ',root.left.left.data,'  ',root.right.left.data,root.right.right.data)\n",
        "    var=finde(root,e,False)\n",
        "    if var==True:\n",
        "        print('Found')\n",
        "    else:\n",
        "        print('Not found')\n",
        "\n",
        "if __name__ == \"__main__\":\n",
        "    main()"
      ],
      "metadata": {
        "colab": {
          "base_uri": "https://localhost:8080/"
        },
        "id": "vDnPS_VGr6Mc",
        "outputId": "59b93fdd-3d15-42d2-f150-f39ed01427ec"
      },
      "execution_count": null,
      "outputs": [
        {
          "output_type": "stream",
          "name": "stdout",
          "text": [
            "Enter the element to be searched = 7\n",
            "       5\n",
            "      / \\\n",
            "    4    6\n",
            "    /   / \\\n",
            "  10    12 15\n",
            "Not found\n"
          ]
        }
      ]
    },
    {
      "cell_type": "markdown",
      "source": [
        "46.Pg.349:Write a program for deletion in a binary tree."
      ],
      "metadata": {
        "id": "e-VuGY-DtQUu"
      }
    },
    {
      "cell_type": "code",
      "source": [
        "class Tree: \n",
        "  \n",
        "    def __init__(node, value): \n",
        "        node.value = value  \n",
        "        node.left = None\n",
        "        node.right = None\n",
        "    \n",
        "    def Inorder( node, Root ): \n",
        "        if( Root is None ): \n",
        "            return\n",
        "        node.Inorder(Root.left) \n",
        "        print(Root.value,end = ' ') \n",
        "        node.Inorder(Root.right) \n",
        "  \n",
        "    def Insert(node, value): \n",
        "        if node is None: \n",
        "            node = Tree(value)\n",
        "        elif value < node.value:\n",
        "            if node.left is None:\n",
        "                node.left = Tree(value)\n",
        "            else:\n",
        "               node.left.Insert(value) \n",
        "        else:\n",
        "            if node.right is None:\n",
        "                node.right = Tree(value)\n",
        "            else:\n",
        "                node.right.Insert(value)\n",
        "\n",
        "    def Delete(node,temp, value): \n",
        "        if value < node.value:\n",
        "            temp = node\n",
        "            node.left.Delete(temp,value)\n",
        "        elif(value > node.value):\n",
        "            temp = node\n",
        "            node.right.Delete(temp, value)\n",
        "            \n",
        "        else:\n",
        "            if (node.left is None and node.right is None):\n",
        "                if(temp.left == node):\n",
        "                    temp.left = None\n",
        "                else:\n",
        "                    temp.right = None\n",
        "                node = None\n",
        "        \n",
        "            elif node.right is None :\n",
        "                if(temp.left == node):\n",
        "                    temp.left = node.left\n",
        "                else:\n",
        "                    temp.right = node.left\n",
        "                node = None\n",
        "    \n",
        "            elif node.left is None :\n",
        "                if(temp.left == node):\n",
        "                    temp.left = node.right\n",
        "                else:\n",
        "                    temp.right = node.right\n",
        "                node = None\n",
        "                \n",
        "            else:\n",
        "                temp = node.right\n",
        "                while(temp.left is not None):\n",
        "                    temp = temp.left \n",
        "                node.value = temp.value\n",
        "                node.right.Delete(temp,temp.value)   \n",
        "Root = Tree(6) \n",
        "Root.Insert(4) \n",
        "Root.Insert(2) \n",
        "Root.Insert(5) \n",
        "Root.Insert(9) \n",
        "Root.Insert(8) \n",
        "Root.Insert( 10) \n",
        "  \n",
        "print (\"Inorder traversal after insertion: \",end = '')\n",
        "Root.Inorder(Root) \n",
        "\n",
        "Root.Delete(Root, 2) \n",
        "print ('\\n 2 is deleted: ',end ='')\n",
        "Root.Inorder(Root) \n",
        "  \n",
        "Root.Delete(Root, 4) \n",
        "print ('\\n 4 is deleted: ',end ='')\n",
        "Root.Inorder(Root) \n",
        "  \n",
        "Root.Delete(Root, 6) \n",
        "print ('\\n 6 is deleted: ',end ='')\n",
        "Root.Inorder(Root)"
      ],
      "metadata": {
        "id": "BHzVW17mrvor"
      },
      "execution_count": null,
      "outputs": []
    },
    {
      "cell_type": "markdown",
      "source": [
        "47.Pg.349:Write a program for insertion in a binary tree."
      ],
      "metadata": {
        "id": "RpAsncZZtbPL"
      }
    },
    {
      "cell_type": "code",
      "source": [
        "class Tree: \n",
        "  \n",
        "    def __init__(node, value): \n",
        "        node.value = value  \n",
        "        node.left = None\n",
        "        node.right = None\n",
        "    \n",
        "    def Inorder( node, Root ): \n",
        "        if( Root is None ): \n",
        "            return\n",
        "        node.Inorder(Root.left) \n",
        "        print(Root.value,end = ' ') \n",
        "        node.Inorder(Root.right) \n",
        "  \n",
        "    def Insert(node, value): \n",
        "        if node is None: \n",
        "            node = Tree(value)\n",
        "        elif value < node.value:\n",
        "            if node.left is None:\n",
        "                node.left = Tree(value)\n",
        "            else:\n",
        "               node.left.Insert(value) \n",
        "        else:\n",
        "            if node.right is None:\n",
        "                node.right = Tree(value)\n",
        "            else:\n",
        "                node.right.Insert(value)\n",
        "Root = Tree(6) \n",
        "Root.Insert(4) \n",
        "Root.Insert(2) \n",
        "Root.Insert(5) \n",
        "Root.Insert(9) \n",
        "Root.Insert(8) \n",
        "Root.Insert( 10) \n",
        "print (\"Inorder traversal after insertion: \",end = '')\n",
        "Root.Inorder(Root)"
      ],
      "metadata": {
        "id": "9AGx-iHHrnLM"
      },
      "execution_count": null,
      "outputs": []
    },
    {
      "cell_type": "markdown",
      "source": [
        "48.Pg.373:Write a recursive program for inorder traversal in binary tree."
      ],
      "metadata": {
        "id": "A0S1wWKstg54"
      }
    },
    {
      "cell_type": "code",
      "source": [
        "class TreeNode:\n",
        "   def __init__(self, data, left = None, right = None):\n",
        "      self.data = data\n",
        "      self.left = left\n",
        "      self.right = right\n",
        "def insert(temp,data):\n",
        "   que = []\n",
        "   que.append(temp)\n",
        "   while (len(que)):\n",
        "      temp = que[0]\n",
        "      que.pop(0)\n",
        "      if (not temp.left):\n",
        "         temp.left = TreeNode(data)\n",
        "         break\n",
        "      else:\n",
        "         que.append(temp.left)\n",
        "      if (not temp.right):\n",
        "         temp.right = TreeNode(data)\n",
        "         break\n",
        "      else:\n",
        "         que.append(temp.right)\n",
        "def make_tree(elements):\n",
        "   Tree = TreeNode(elements[0])\n",
        "   for element in elements[1:]:\n",
        "      insert(Tree, element)\n",
        "   return Tree\n",
        "class Solution(object):\n",
        "   def inorderTraversal(self, root):\n",
        "      res, stack = [], []\n",
        "      current = root\n",
        "      while True:\n",
        "         while current:\n",
        "            stack.append(current)\n",
        "            current = current.left\n",
        "         if len(stack) == 0:\n",
        "            return res\n",
        "         node = stack[-1]\n",
        "         stack.pop(len(stack)-1)\n",
        "         if node.data != None:\n",
        "            res.append(node.data)\n",
        "         current = node.right\n",
        "      return res\n",
        "ob1 = Solution()\n",
        "root = make_tree([10,5,15,2,7,None,20])\n",
        "print(ob1.inorderTraversal(root))"
      ],
      "metadata": {
        "id": "Bj4WOKTyrML1"
      },
      "execution_count": null,
      "outputs": []
    },
    {
      "cell_type": "markdown",
      "source": [
        "49.Pg.373:Write a recursive program for preorder traversal in binary tree."
      ],
      "metadata": {
        "id": "7_tgcc_CuftS"
      }
    },
    {
      "cell_type": "code",
      "source": [
        "class TreeNode:\n",
        "   def __init__(self, data, left = None, right = None):\n",
        "      self.data = data\n",
        "      self.left = left\n",
        "      self.right = right\n",
        "def insert(temp,data):\n",
        "   que = []\n",
        "   que.append(temp)\n",
        "   while (len(que)):\n",
        "      temp = que[0]\n",
        "      que.pop(0)\n",
        "      if (not temp.left):\n",
        "         temp.left = TreeNode(data)\n",
        "         break\n",
        "      else:\n",
        "         que.append(temp.left)\n",
        "      if (not temp.right):\n",
        "         temp.right = TreeNode(data)\n",
        "         break\n",
        "      else:\n",
        "         que.append(temp.right)\n",
        "def make_tree(elements):\n",
        "   Tree = TreeNode(elements[0])\n",
        "   for element in elements[1:]:\n",
        "   insert(Tree, element)\n",
        "   return Tree\n",
        "class Solution(object):\n",
        "   def preorderTraversal(self, root):\n",
        "      res = []\n",
        "      st = []\n",
        "      node = root\n",
        "      while node or st:\n",
        "         while node:\n",
        "            if node.data != None:\n",
        "               res.append(node.data)\n",
        "            st.append(node)\n",
        "            node = node.left\n",
        "         temp = st[-1]\n",
        "         st.pop()\n",
        "         if temp.right:\n",
        "            node = temp.right\n",
        "   return res\n",
        "ob1 = Solution()\n",
        "head = make_tree([3,9,20,None,None,15,7])\n",
        "print(ob1.preorderTraversal(head))"
      ],
      "metadata": {
        "id": "meKz3vD9q6v-"
      },
      "execution_count": null,
      "outputs": []
    },
    {
      "cell_type": "markdown",
      "source": [
        "50.Pg.373:Write a recursive program for postorder traversal in binary tree."
      ],
      "metadata": {
        "id": "qLac9nsjunX2"
      }
    },
    {
      "cell_type": "code",
      "source": [
        "class TreeNode:\n",
        "   def __init__(self, data, left = None, right = None):\n",
        "      self.data = data\n",
        "      self.left = left\n",
        "      self.right = right\n",
        "def insert(temp,data):\n",
        "   que = []\n",
        "   que.append(temp)\n",
        "   while (len(que)):\n",
        "      temp = que[0]\n",
        "      que.pop(0)\n",
        "      if (not temp.left):\n",
        "         if data is not None:\n",
        "            temp.left = TreeNode(data)\n",
        "         else:\n",
        "            temp.left = TreeNode(0)\n",
        "         break\n",
        "      else:\n",
        "         que.append(temp.left)\n",
        "      if (not temp.right):\n",
        "         if data is not None:\n",
        "            temp.right = TreeNode(data)\n",
        "         else:\n",
        "            temp.right = TreeNode(0)\n",
        "         break\n",
        "      else:\n",
        "         que.append(temp.right)\n",
        "def make_tree(elements):\n",
        "   Tree = TreeNode(elements[0])\n",
        "   for element in elements[1:]:\n",
        "      insert(Tree, element)\n",
        "   return Tree\n",
        "class Solution(object):\n",
        "   def postorderTraversal(self, root):\n",
        "      if not root:\n",
        "         return []\n",
        "      res = []\n",
        "      stack = [[root,0]]\n",
        "      while stack:\n",
        "         node = stack[-1]\n",
        "         stack.pop()\n",
        "         if node[1]== 0 :\n",
        "            current = node[0]\n",
        "            stack.append([current,1])\n",
        "            if current.right:\n",
        "               stack.append([current.right,0])\n",
        "            if current.left:\n",
        "               stack.append([current.left,0])\n",
        "         else:\n",
        "            if node[0].data != 0:\n",
        "               res.append(node[0].data)\n",
        "      return res\n",
        "\n",
        "ob = Solution()\n",
        "root = make_tree([-10,9,10,None,None,15,7])\n",
        "print(ob.postorderTraversal(root))"
      ],
      "metadata": {
        "id": "0q0kvlDLq8Ns"
      },
      "execution_count": null,
      "outputs": []
    },
    {
      "cell_type": "markdown",
      "source": [
        ""
      ],
      "metadata": {
        "id": "AxCPDDS2o3d3"
      }
    },
    {
      "cell_type": "markdown",
      "source": [
        ""
      ],
      "metadata": {
        "id": "_s8_10oTcVAg"
      }
    }
  ]
}